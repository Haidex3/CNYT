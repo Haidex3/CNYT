{
 "cells": [
  {
   "cell_type": "markdown",
   "id": "f43fc972-23ab-4d81-aa26-c51325dac8f3",
   "metadata": {},
   "source": [
    "# Creating complex column vectors"
   ]
  },
  {
   "cell_type": "markdown",
   "id": "a07bd584",
   "metadata": {},
   "source": [
    "# Theory of Complex Vector Spaces\n",
    "Complex vector spaces extend the idea of real vector spaces by allowing vectors to have complex numbers as their components. In these spaces, vectors can be added together and multiplied by complex scalars to produce new vectors. Key operations in complex vector spaces include vector addition, scalar multiplication, vector negation, and complex conjugation."
   ]
  },
  {
   "cell_type": "code",
   "execution_count": 22,
   "id": "029f08ba-1cdc-4928-9631-f62c51ab7aa5",
   "metadata": {},
   "outputs": [
    {
     "name": "stdout",
     "output_type": "stream",
     "text": [
      "Matrix:\n",
      " [[2 3]\n",
      " [1 4]]\n",
      "\n",
      "Vector:\n",
      " [5 6]\n",
      "\n",
      "Result of multiplication:\n",
      " [28 29]\n"
     ]
    }
   ],
   "source": [
    "import numpy as np\n",
    "\n",
    "# Define a 2x2 square matrix\n",
    "matrix = np.array([[2, 3],\n",
    "                   [1, 4]])\n",
    "\n",
    "# Define a vector of size 2\n",
    "vector = np.array([5, 6])\n",
    "\n",
    "# Multiply the matrix by the vector\n",
    "result = np.dot(matrix, vector)\n",
    "\n",
    "# Display the result\n",
    "print(\"Matrix:\\n\", matrix)\n",
    "print(\"\\nVector:\\n\", vector)\n",
    "print(\"\\nResult of multiplication:\\n\", result)\n",
    "\n"
   ]
  },
  {
   "cell_type": "markdown",
   "id": "975c2284",
   "metadata": {},
   "source": [
    "## Manipulating Complex Column Vectors using NumPy\n",
    "Here we demonstrate how to manipulate complex column vectors using NumPy, including operations like sum, negation, multiplication by a scalar, transpose, adjunct, and conjugate."
   ]
  },
  {
   "cell_type": "code",
   "execution_count": 23,
   "id": "e8058abe",
   "metadata": {},
   "outputs": [
    {
     "data": {
      "text/plain": [
       "(array([[3.+2.j],\n",
       "        [8.-2.j],\n",
       "        [5.-3.j]]),\n",
       " array([[-2.-3.j],\n",
       "        [-5.+4.j],\n",
       "        [-1.-1.j]]),\n",
       " array([[ 1.+8.j],\n",
       "        [14.-3.j],\n",
       "        [ 1.+3.j]]),\n",
       " array([[2.+3.j, 5.-4.j, 1.+1.j]]),\n",
       " array([[2.-3.j, 5.+4.j, 1.-1.j]]),\n",
       " array([[2.-3.j],\n",
       "        [5.+4.j],\n",
       "        [1.-1.j]]))"
      ]
     },
     "execution_count": 23,
     "metadata": {},
     "output_type": "execute_result"
    }
   ],
   "source": [
    "\n",
    "import numpy as np\n",
    "\n",
    "# Define two complex column vectors\n",
    "v1 = np.array([[2+3j], [5-4j], [1+1j]])\n",
    "v2 = np.array([[1-1j], [3+2j], [4-4j]])\n",
    "\n",
    "# Sum\n",
    "sum_v = v1 + v2\n",
    "\n",
    "# Negation\n",
    "neg_v1 = -v1\n",
    "\n",
    "# Multiplication by a scalar\n",
    "scalar = 2 + 1j\n",
    "mult_v1 = v1 * scalar\n",
    "\n",
    "# Transpose\n",
    "transpose_v1 = v1.T\n",
    "\n",
    "# Adjunct (Conjugate transpose)\n",
    "adjunct_v1 = v1.T.conj()\n",
    "\n",
    "# Conjugate\n",
    "conjugate_v1 = np.conjugate(v1)\n",
    "\n",
    "(sum_v, neg_v1, mult_v1, transpose_v1, adjunct_v1, conjugate_v1)\n"
   ]
  },
  {
   "cell_type": "markdown",
   "id": "995ae5fc",
   "metadata": {},
   "source": [
    "# Theory of Vector Spaces using Matrices\n",
    "In the context of matrices, vector spaces can be defined where each vector is a matrix of a particular size. Operations on these matrix-vector spaces include matrix addition, scalar multiplication, matrix negation, transpose, adjunct, and conjugate. In this section, we focus on square matrices of size 3x3."
   ]
  },
  {
   "cell_type": "markdown",
   "id": "9385c1f0",
   "metadata": {},
   "source": [
    "## Manipulating Square Matrices using NumPy\n",
    "Examples of how to manipulate 3x3 square matrices using NumPy, showing operations such as sum, negation, multiplication by a scalar, conjugate, transpose, and adjunct."
   ]
  },
  {
   "cell_type": "code",
   "execution_count": 24,
   "id": "b81ecc57",
   "metadata": {},
   "outputs": [
    {
     "data": {
      "text/plain": [
       "(array([[3.+3.j, 6.+0.j, 3.-3.j],\n",
       "        [1.+1.j, 2.+5.j, 6.-2.j],\n",
       "        [7.+3.j, 8.-2.j, 5.+3.j]]),\n",
       " array([[-2.-3.j, -4.+1.j, -0.-0.j],\n",
       "        [-1.-1.j, -3.-3.j, -5.-0.j],\n",
       "        [-4.-0.j, -6.+2.j, -1.+1.j]]),\n",
       " array([[-0.5+2.5j,  2.5+1.5j,  0. +0.j ],\n",
       "        [ 0. +1.j ,  0. +3.j ,  2.5+2.5j],\n",
       "        [ 2. +2.j ,  4. +2.j ,  1. +0.j ]]),\n",
       " array([[2.-3.j, 4.+1.j, 0.-0.j],\n",
       "        [1.-1.j, 3.-3.j, 5.-0.j],\n",
       "        [4.-0.j, 6.+2.j, 1.+1.j]]),\n",
       " array([[2.+3.j, 1.+1.j, 4.+0.j],\n",
       "        [4.-1.j, 3.+3.j, 6.-2.j],\n",
       "        [0.+0.j, 5.+0.j, 1.-1.j]]),\n",
       " array([[2.-3.j, 1.-1.j, 4.-0.j],\n",
       "        [4.+1.j, 3.-3.j, 6.+2.j],\n",
       "        [0.-0.j, 5.-0.j, 1.+1.j]]))"
      ]
     },
     "execution_count": 24,
     "metadata": {},
     "output_type": "execute_result"
    }
   ],
   "source": [
    "\n",
    "# Define two 3x3 complex matrices\n",
    "m1 = np.array([[2+3j, 4-1j, 0], \n",
    "               [1+1j, 3+3j, 5], \n",
    "               [4, 6-2j, 1-1j]])\n",
    "m2 = np.array([[1, 2+1j, 3-3j], \n",
    "               [0, -1+2j, 1-2j], \n",
    "               [3+3j, 2, 4+4j]])\n",
    "\n",
    "# Sum\n",
    "sum_m = m1 + m2\n",
    "\n",
    "# Negation\n",
    "neg_m1 = -m1\n",
    "\n",
    "# Multiplication by a scalar\n",
    "scalar = 0.5 + 0.5j\n",
    "mult_m1 = m1 * scalar\n",
    "\n",
    "# Conjugate\n",
    "conjugate_m1 = np.conjugate(m1)\n",
    "\n",
    "# Transpose\n",
    "transpose_m1 = m1.T\n",
    "\n",
    "# Adjunct (Conjugate transpose)\n",
    "adjunct_m1 = m1.T.conj()\n",
    "\n",
    "(sum_m, neg_m1, mult_m1, conjugate_m1, transpose_m1, adjunct_m1)\n"
   ]
  },
  {
   "cell_type": "markdown",
   "id": "ed909545-8a5c-4cca-85f7-48688b597598",
   "metadata": {},
   "source": [
    "## Checking the Dimension of a Matrix\n",
    "We can check the dimension of a matrix using the `.shape` attribute."
   ]
  },
  {
   "cell_type": "code",
   "execution_count": 25,
   "id": "0930dc10-af6d-427f-bbcb-75bfaf051db5",
   "metadata": {},
   "outputs": [
    {
     "data": {
      "text/plain": [
       "(3, 3)"
      ]
     },
     "execution_count": 25,
     "metadata": {},
     "output_type": "execute_result"
    }
   ],
   "source": [
    "# Checking the dimension of matrix1\n",
    "m1 = np.array([[2+3j, 4-1j, 0], \n",
    "               [1+1j, 3+3j, 5], \n",
    "               [4, 6-2j, 1-1j]])\n",
    "m1.shape"
   ]
  },
  {
   "cell_type": "markdown",
   "id": "b3fe896b",
   "metadata": {},
   "source": [
    "## Action of a Matrix on a Vector\n",
    "Finally, examples of how to use Python to multiply a 3x3 square matrix by a 3x1 column vector."
   ]
  },
  {
   "cell_type": "code",
   "execution_count": 26,
   "id": "e514d047",
   "metadata": {},
   "outputs": [
    {
     "data": {
      "text/plain": [
       "array([[11. -9.j],\n",
       "       [31.+13.j],\n",
       "       [32.-22.j]])"
      ]
     },
     "execution_count": 26,
     "metadata": {},
     "output_type": "execute_result"
    }
   ],
   "source": [
    "# Multiplying a 3x3 matrix by a 3x1 vector\n",
    "result = np.dot(m1, v1)\n",
    "result\n"
   ]
  },
  {
   "cell_type": "markdown",
   "id": "5adf9d8a-af43-4074-ab1a-3cabdc4accff",
   "metadata": {},
   "source": [
    "# Exercises on Complex Vectors and Matrices with Concrete Cases\n",
    "\n",
    "This set of exercises focuses on operations with **complex column vectors** and **complex square matrices**, presenting specific cases with vectors and matrices written in LaTeX format.\n",
    "\n",
    "## Complex Column Vector Operations\n",
    "\n",
    "### Exercise 1: Sum of Two Complex Vectors\n",
    "Given two complex vectors:\n",
    "\n",
    "$$ v1 = \\begin{bmatrix} 1 + 2i \\\\ 3 - i \\end{bmatrix} $$\n",
    "\n",
    "and\n",
    "\n",
    "$$ v2 = \\begin{bmatrix} 2 - i \\\\ 4 + 2i \\end{bmatrix} $$\n",
    "\n",
    "find their sum.\n",
    "\n",
    "### Solution:\n",
    "The result of the addition, as shown by the code execution, is:\n",
    "\n",
    "$$ v3 = \\begin{bmatrix} 3 + i \\\\ 7 + i \\end{bmatrix} $$\n"
   ]
  },
  {
   "cell_type": "code",
   "execution_count": 27,
   "id": "12949876-03e8-4f25-b566-517ed35ac1e1",
   "metadata": {},
   "outputs": [
    {
     "name": "stdout",
     "output_type": "stream",
     "text": [
      "v1 = [[1.+2.j]\n",
      " [3.-1.j]] \n",
      "v2 = [[2.-1.j]\n",
      " [4.+2.j]] \n",
      "sum = [[3.+1.j]\n",
      " [7.+1.j]]\n"
     ]
    }
   ],
   "source": [
    "import numpy as np\n",
    "\n",
    "# Define two complex column vectors\n",
    "v1 = np.array([[1 + 2j], [3 - 1j]])\n",
    "v2 = np.array([[2 - 1j], [4 + 2j]])\n",
    "\n",
    "# Compute the sum of the two vectors\n",
    "sum_m = v1 + v2\n",
    "\n",
    "# Display the results\n",
    "print(\"v1 =\", v1, \"\\nv2 =\", v2, \"\\nsum =\", sum_m)\n"
   ]
  },
  {
   "cell_type": "markdown",
   "id": "44c48b9c-c00d-4eb9-a46d-15870e336027",
   "metadata": {},
   "source": [
    "### Exercise 2: Negation of a Complex Vector\n",
    "Given a complex vector:\n",
    "\n",
    "$$ v = \\begin{bmatrix} 2 + 3i \\\\ 1 - 2i \\end{bmatrix} $$\n",
    "\n",
    "find its negation.\n",
    "\n",
    "### Solution:\n",
    "The negation, as shown by the code execution, is:\n",
    "\n",
    "$$ -v = \\begin{bmatrix} -2 - 3i \\\\ -1 + 2i \\end{bmatrix} $$\n"
   ]
  },
  {
   "cell_type": "code",
   "execution_count": 28,
   "id": "a723d2e3-b5be-42f2-b1d1-241951342ae8",
   "metadata": {},
   "outputs": [
    {
     "name": "stdout",
     "output_type": "stream",
     "text": [
      "v1 = [[2.+3.j]\n",
      " [1.-2.j]] \n",
      "-v1 = [[-2.-3.j]\n",
      " [-1.+2.j]]\n"
     ]
    }
   ],
   "source": [
    "import numpy as np\n",
    "\n",
    "# Define a complex column vector\n",
    "v1 = np.array([[2 + 3j], [1 - 2j]])\n",
    "\n",
    "# Compute the negation of the vector\n",
    "negation = -v1\n",
    "\n",
    "# Display the results\n",
    "print(\"v1 =\", v1, \"\\n-v1 =\", negation)\n"
   ]
  },
  {
   "cell_type": "markdown",
   "id": "88489aad-ab65-44d7-a07f-98566fdbc8c9",
   "metadata": {},
   "source": [
    "### Exercise 3: Multiplication of a Complex Vector by a Scalar\n",
    "Multiply the complex vector:\n",
    "\n",
    "$$ v = \\begin{bmatrix} 1 - i \\\\ 2 + 2i \\end{bmatrix} $$\n",
    "\n",
    "by the complex scalar:\n",
    "\n",
    "$$ 3 + i $$\n",
    "\n",
    "### Solution:\n",
    "As shown by the code execution, the multiplication is:\n",
    "\n",
    "$$ v = \\begin{bmatrix} 4 - 2i \\\\ 4 + 8i \\end{bmatrix} $$\n"
   ]
  },
  {
   "cell_type": "code",
   "execution_count": 29,
   "id": "f3260752-30e5-424f-9efe-4c286f3ef06e",
   "metadata": {},
   "outputs": [
    {
     "name": "stdout",
     "output_type": "stream",
     "text": [
      "v1 = [[1.-1.j]\n",
      " [2.+2.j]] \n",
      "scalar = (3+1j) \n",
      "v1 * scalar = [[4.-2.j]\n",
      " [4.+8.j]]\n"
     ]
    }
   ],
   "source": [
    "import numpy as np\n",
    "\n",
    "# Define a complex column vector\n",
    "v1 = np.array([[1 - 1j], [2 + 2j]])\n",
    "\n",
    "# Define the complex scalar\n",
    "scalar = 3 + 1j\n",
    "\n",
    "# Multiply the vector by the scalar\n",
    "mult = scalar * v1\n",
    "\n",
    "# Display the results\n",
    "print(\"v1 =\", v1, \"\\nscalar =\", scalar, \"\\nv1 * scalar =\", mult)\n"
   ]
  },
  {
   "cell_type": "markdown",
   "id": "41199f25-6ad3-4951-978d-90c6fc9b63fa",
   "metadata": {},
   "source": [
    "### Exercise 4: Transpose of a Complex Vector\n",
    "Find the transpose of the complex vector:\n",
    "\n",
    "$$ v = \\begin{bmatrix} 2 - i \\\\ 3 + 4i \\end{bmatrix} $$\n",
    "\n",
    "### Solution:\n",
    "The result of taking the transpose of the vector is:\n",
    "\n",
    "$$ v^T = \\begin{bmatrix} 2 - i & 3 + 4i \\end{bmatrix} $$\n"
   ]
  },
  {
   "cell_type": "code",
   "execution_count": 30,
   "id": "9e83ca33-a1ac-4311-9b3e-3b2871e19140",
   "metadata": {},
   "outputs": [
    {
     "name": "stdout",
     "output_type": "stream",
     "text": [
      "v1 = [[2.-1.j]\n",
      " [3.+4.j]] \n",
      "Transpose = [[2.-1.j 3.+4.j]]\n"
     ]
    }
   ],
   "source": [
    "import numpy as np\n",
    "\n",
    "# Define a complex column vector\n",
    "v1 = np.array([[2 - 1j], [3 + 4j]])\n",
    "\n",
    "# Compute the transpose of the vector\n",
    "transpose_v1 = v1.T\n",
    "\n",
    "# Display the results\n",
    "print(\"v1 =\", v1, \"\\nTranspose =\", transpose_v1)\n"
   ]
  },
  {
   "cell_type": "markdown",
   "id": "150c08e6-e2b2-43c1-96cf-89122b8e81de",
   "metadata": {},
   "source": [
    "### Exercise 5: Conjugate of a Complex Vector\n",
    "Compute the conjugate of the complex vector:\n",
    "\n",
    "$$ v = \\begin{bmatrix} 1 + i \\\\ 2 - 3i \\end{bmatrix} $$\n",
    "\n",
    "### Solution:\n",
    "As shown by the code execution, the result is:\n",
    "\n",
    "$$ \\overline{v} = \\begin{bmatrix} 1 - i \\\\ 2 + 3i \\end{bmatrix} $$\n"
   ]
  },
  {
   "cell_type": "code",
   "execution_count": 31,
   "id": "593bda85-ee7a-471d-9e87-8cc651b071d3",
   "metadata": {},
   "outputs": [
    {
     "name": "stdout",
     "output_type": "stream",
     "text": [
      "v1 = [[1.+1.j]\n",
      " [2.-3.j]] \n",
      "Conjugate = [[1.-1.j]\n",
      " [2.+3.j]]\n"
     ]
    }
   ],
   "source": [
    "import numpy as np\n",
    "\n",
    "# Define a complex column vector\n",
    "v1 = np.array([[1 + 1j], [2 - 3j]])\n",
    "\n",
    "# Compute the conjugate of the vector\n",
    "conjugate_v1 = np.conjugate(v1)\n",
    "\n",
    "# Display the results\n",
    "print(\"v1 =\", v1, \"\\nConjugate =\", conjugate_v1)\n"
   ]
  },
  {
   "cell_type": "markdown",
   "id": "29ddb2c7-f263-4dbe-aa4d-48d0f37f8099",
   "metadata": {},
   "source": [
    "### Exercise 6: Adjoint (Conjugate Transpose) of a Complex Vector\n",
    "Find the adjoint (also called the conjugate transpose) of the complex vector:\n",
    "\n",
    "$$ v = \\begin{bmatrix} 1 - 2i \\\\ 3 + i \\end{bmatrix} $$\n",
    "\n",
    "### Solution:\n",
    "First, compute the conjugate of the vector:\n",
    "\n",
    "$$ \\overline{v} = \\begin{bmatrix} 1 + 2i \\\\ 3 - i \\end{bmatrix} $$\n",
    "\n",
    "Then, take its transpose. As shown by the code execution, the result is:\n",
    "\n",
    "$$ \\overline{v}^T = \\begin{bmatrix} 1 + 2i & 3 - i \\end{bmatrix} $$\n"
   ]
  },
  {
   "cell_type": "code",
   "execution_count": 32,
   "id": "b6739632-e61d-450f-b204-fd65fe834a98",
   "metadata": {},
   "outputs": [
    {
     "name": "stdout",
     "output_type": "stream",
     "text": [
      "v1 = [[1.-2.j]\n",
      " [3.+1.j]] \n",
      "Conjugate = [[1.+2.j]\n",
      " [3.-1.j]]\n",
      "Conjugate Transpose = [[1.+2.j 3.-1.j]]\n"
     ]
    }
   ],
   "source": [
    "import numpy as np\n",
    "\n",
    "# Define a complex column vector\n",
    "v1 = np.array([[1 - 2j], [3 + 1j]])\n",
    "\n",
    "# Step 1: Compute the conjugate of the vector\n",
    "conjugate_v1 = np.conjugate(v1)\n",
    "print(\"v1 =\", v1, \"\\nConjugate =\", conjugate_v1)\n",
    "\n",
    "# Step 2: Compute the transpose of the conjugate (adjoint)\n",
    "transpose_c = conjugate_v1.T\n",
    "print(\"Conjugate Transpose =\", transpose_c)\n"
   ]
  },
  {
   "cell_type": "markdown",
   "id": "b12d5ce4-e448-4134-9da6-1a544f6ec430",
   "metadata": {},
   "source": [
    "### Exercise 7: Sum of Two Complex Matrices\n",
    "Given two complex matrices:\n",
    "\n",
    "$$ m1 = \\begin{bmatrix} 1 + i & 2 - i \\\\ 3 + 2i & 4 \\end{bmatrix} $$\n",
    "\n",
    "and\n",
    "\n",
    "$$ m2 = \\begin{bmatrix} 2 - 3i & 1 \\\\ i & 2 + 2i \\end{bmatrix} $$\n",
    "\n",
    "calculate their sum.\n",
    "\n",
    "### Solution:\n",
    "As shown by the code execution, the result is:\n",
    "\n",
    "$$ m3 = \\begin{bmatrix} 3 - 2i & 3 - i \\\\ 3 + 3i & 6 + 2i \\end{bmatrix} $$"
   ]
  },
  {
   "cell_type": "code",
   "execution_count": 33,
   "id": "2565496b-7e02-4c5b-885a-e82e90f4985d",
   "metadata": {},
   "outputs": [
    {
     "name": "stdout",
     "output_type": "stream",
     "text": [
      "m1 = [[1.+1.j 2.-1.j]\n",
      " [3.+2.j 4.+0.j]] \n",
      "m2 = [[2.-3.j 1.+0.j]\n",
      " [0.+1.j 2.+2.j]] \n",
      "m1 + m2 = m3 = [[3.-2.j 3.-1.j]\n",
      " [3.+3.j 6.+2.j]]\n"
     ]
    }
   ],
   "source": [
    "import numpy as np\n",
    "\n",
    "# Define two complex matrices\n",
    "m1 = np.array([[1 + 1j, 2 - 1j], \n",
    "               [3 + 2j, 4 + 0j]])\n",
    "\n",
    "m2 = np.array([[2 - 3j, 1 - 0j], \n",
    "               [0 + 1j, 2 + 2j]])\n",
    "\n",
    "# Compute the sum of the two matrices\n",
    "m3 = m1 + m2\n",
    "\n",
    "# Display the results\n",
    "print(\"m1 =\", m1, \"\\nm2 =\", m2, \"\\nm1 + m2 = m3 =\", m3)\n"
   ]
  },
  {
   "cell_type": "markdown",
   "id": "cfed4cb9-6e83-4f1b-b1ec-c420a8a35a8b",
   "metadata": {},
   "source": [
    "### Exercise 8: Negation of a Complex Matrix\n",
    "Find the negation of the complex matrix:\n",
    "\n",
    "$$ m = \\begin{bmatrix} 2 + i & 3 \\\\ 1 - i & 2 + 2i \\end{bmatrix} $$\n",
    "\n",
    "### Solution:\n",
    "As shown by the code execution, the negation is:\n",
    "\n",
    "$$ -m = \\begin{bmatrix} -2 - i & -3 \\\\ -1 + i & -2 - 2i \\end{bmatrix} $$\n"
   ]
  },
  {
   "cell_type": "code",
   "execution_count": 34,
   "id": "154a7596-00dd-4dc7-9de9-1d0644960763",
   "metadata": {},
   "outputs": [
    {
     "name": "stdout",
     "output_type": "stream",
     "text": [
      "m = [[2.+1.j 3.+0.j]\n",
      " [1.-1.j 2.+2.j]] \n",
      "Negation = [[-2.-1.j -3.-0.j]\n",
      " [-1.+1.j -2.-2.j]]\n"
     ]
    }
   ],
   "source": [
    "import numpy as np\n",
    "\n",
    "# Define a complex matrix\n",
    "m = np.array([[2 + 1j, 3 - 0j], \n",
    "              [1 - 1j, 2 + 2j]])\n",
    "\n",
    "# Compute the negation of the matrix\n",
    "negation = -m\n",
    "\n",
    "# Display the results\n",
    "print(\"m =\", m, \"\\nNegation =\", negation)\n"
   ]
  },
  {
   "cell_type": "markdown",
   "id": "a144dbf0-d3b5-48b8-84b3-c3a664531bf3",
   "metadata": {},
   "source": [
    "### Exercise 9: Multiplication of a Complex Matrix by a Scalar\n",
    "Multiply the complex matrix:\n",
    "\n",
    "$$ m = \\begin{bmatrix} 1 - i & 2 \\\\ 3 + i & 4 - 2i \\end{bmatrix} $$\n",
    "\n",
    "by the complex scalar:\n",
    "\n",
    "$$ 2 + 3i $$\n",
    "\n",
    "### Solution:\n",
    "As shown by the code execution, the multiplication is:\n",
    "\n",
    "$$ mult = \\begin{bmatrix} 5 + i & 4 + 6i \\\\ 3 + 11i & 14 + 8i \\end{bmatrix} $$"
   ]
  },
  {
   "cell_type": "code",
   "execution_count": 35,
   "id": "7779e8ce-1f0a-4c7b-9900-33b650339b6c",
   "metadata": {},
   "outputs": [
    {
     "name": "stdout",
     "output_type": "stream",
     "text": [
      "m = [[1.-1.j 2.+0.j]\n",
      " [3.+1.j 4.-2.j]] \n",
      "scalar = (2+3j) \n",
      "mult = [[ 5. +1.j  4. +6.j]\n",
      " [ 3.+11.j 14. +8.j]]\n"
     ]
    }
   ],
   "source": [
    "import numpy as np\n",
    "\n",
    "# Define a complex matrix\n",
    "m = np.array([[1 - 1j, 2 - 0j], \n",
    "              [3 + 1j, 4 - 2j]])\n",
    "\n",
    "# Define the complex scalar\n",
    "scalar = 2 + 3j\n",
    "\n",
    "# Multiply the matrix by the scalar\n",
    "mult = m * scalar\n",
    "\n",
    "# Display the results\n",
    "print(\"m =\", m, \"\\nscalar =\", scalar, \"\\nmult =\", mult)\n"
   ]
  },
  {
   "cell_type": "markdown",
   "id": "b3b5d421-ec62-4c35-8c4c-a78a2c6c6ebe",
   "metadata": {},
   "source": [
    "### Exercise 10: Conjugate of a Complex Matrix\n",
    "Compute the conjugate of the complex matrix:\n",
    "\n",
    "$$ m = \\begin{bmatrix} 1 + i & 2 \\\\ 3 - i & 4 + 2i \\end{bmatrix} $$\n",
    "\n",
    "### Solution:\n",
    "As shown by the code output, the correct result is:\n",
    "\n",
    "$$ \\overline{m} = \\begin{bmatrix} 1 - i & 2 \\\\ 3 + i & 4 - 2i \\end{bmatrix} $$"
   ]
  },
  {
   "cell_type": "code",
   "execution_count": 36,
   "id": "d453d0e3-374f-465b-bd98-8917e8c096fe",
   "metadata": {},
   "outputs": [
    {
     "name": "stdout",
     "output_type": "stream",
     "text": [
      "m = [[1.+1.j 2.+0.j]\n",
      " [3.-1.j 4.+2.j]] \n",
      "Conjugate = [[1.-1.j 2.-0.j]\n",
      " [3.+1.j 4.-2.j]]\n"
     ]
    }
   ],
   "source": [
    "import numpy as np\n",
    "\n",
    "# Define a complex matrix\n",
    "m = np.array([[1 + 1j, 2 - 0j], \n",
    "              [3 - 1j, 4 + 2j]])\n",
    "\n",
    "# Compute the conjugate of the matrix\n",
    "conjugate_m = np.conjugate(m)\n",
    "\n",
    "# Display the results\n",
    "print(\"m =\", m, \"\\nConjugate =\", conjugate_m)\n"
   ]
  },
  {
   "cell_type": "markdown",
   "id": "ae42bb69-049f-43a4-8be8-822e1ee02428",
   "metadata": {},
   "source": [
    "### Exercise 11: Transpose of a Complex Matrix\n",
    "Find the transpose of the complex matrix \n",
    "$$ m = \\begin{bmatrix} 1 - i & 2 + 2i \\\\ 3 & 4 - i \\end{bmatrix} $$\n",
    "\n",
    "### Solution\n",
    "As shown in the code output, the transpose of the matrix is:\n",
    "$$ m^T = \\begin{bmatrix} 1 - i & 3 \\\\ 2 + 2i & 4 - i \\end{bmatrix} $$"
   ]
  },
  {
   "cell_type": "code",
   "execution_count": 37,
   "id": "50f47959-7db3-4fca-a5bf-5bd69c486346",
   "metadata": {},
   "outputs": [
    {
     "name": "stdout",
     "output_type": "stream",
     "text": [
      "m = [[1.-1.j 2.+2.j]\n",
      " [3.+0.j 4.-1.j]] \n",
      "Transpose = [[1.-1.j 3.+0.j]\n",
      " [2.+2.j 4.-1.j]]\n"
     ]
    }
   ],
   "source": [
    "import numpy as np\n",
    "\n",
    "m = np.array([[1-1j, 2+2j],\n",
    "              [3+0j, 4-1j]])\n",
    "\n",
    "transpo = m.T\n",
    "print(\"m =\", m, \"\\nTranspose =\", transpo)"
   ]
  },
  {
   "cell_type": "markdown",
   "id": "26d95e17-2f6a-48a7-bae5-e4bfd51b43c9",
   "metadata": {},
   "source": [
    "### Exercise 12: Adjunct (Conjugate Transpose) of a Complex Matrix\n",
    "Calculate the adjunct (or conjugate transpose) of the complex matrix \n",
    "$$ m = \\begin{bmatrix} 1 + 2i & 3 - i \\\\ 4 & 5 + i \\end{bmatrix} $$\n",
    "\n",
    "### Solution\n",
    "First, compute the conjugate of the matrix:\n",
    "$$ c = \\begin{bmatrix} 1 - 2i & 3 + i \\\\ 4 & 5 - i \\end{bmatrix} $$\n",
    "\n",
    "Then, calculate the transpose of the conjugate, which gives:\n",
    "$$ c^T = \\begin{bmatrix} 1 - 2i & 4 \\\\ 3 + i & 5 - i \\end{bmatrix} $$\n"
   ]
  },
  {
   "cell_type": "code",
   "execution_count": 38,
   "id": "3ea5d8c2-dc20-44c6-a877-c4efdb102985",
   "metadata": {},
   "outputs": [
    {
     "name": "stdout",
     "output_type": "stream",
     "text": [
      "Original matrix m:\n",
      " [[1.+2.j 3.-1.j]\n",
      " [4.+0.j 5.+1.j]]\n",
      "Conjugate of m:\n",
      " [[1.-2.j 3.+1.j]\n",
      " [4.-0.j 5.-1.j]]\n",
      "Conjugate transpose of m:\n",
      " [[1.-2.j 4.-0.j]\n",
      " [3.+1.j 5.-1.j]]\n"
     ]
    }
   ],
   "source": [
    "import numpy as np\n",
    "\n",
    "# Original complex matrix\n",
    "m = np.array([[1+2j, 3-1j], \n",
    "              [4+0j, 5+1j]])\n",
    "\n",
    "# Compute conjugate\n",
    "conjugate_m = np.conjugate(m)\n",
    "print(\"Original matrix m:\\n\", m)\n",
    "print(\"Conjugate of m:\\n\", conjugate_m)\n",
    "\n",
    "# Compute conjugate transpose (adjunct)\n",
    "conjugate_transpose = conjugate_m.T\n",
    "print(\"Conjugate transpose of m:\\n\", conjugate_transpose)\n"
   ]
  },
  {
   "cell_type": "markdown",
   "id": "2f2b79a8-265d-420f-b393-9937030c1a80",
   "metadata": {},
   "source": [
    "### Exercise 13: Checking the Dimensions of a Matrix\n",
    "Determine the dimensions of the complex matrix.\n",
    "\n",
    "$$ m = \\begin{bmatrix} 1 - i & 2 \\\\ 3 + 2i & 4 - i \\end{bmatrix} $$\n",
    "\n",
    "### Solution:\n",
    "As shown in the code output, the dimensions are:\n",
    "\n",
    "$$ 3 \\times 3 $$\n"
   ]
  },
  {
   "cell_type": "code",
   "execution_count": 39,
   "id": "8f68cb4b-cc9a-489c-bfa7-70c218345a06",
   "metadata": {},
   "outputs": [
    {
     "name": "stdout",
     "output_type": "stream",
     "text": [
      "Matrix m =\n",
      " [[1.-1.j 2.+0.j]\n",
      " [3.+2.j 4.-1.j]]\n",
      "Dimensions of m = (2, 2)\n"
     ]
    }
   ],
   "source": [
    "import numpy as np\n",
    "\n",
    "# Define the complex matrix\n",
    "m = np.array([[1-1j, 2+0j], \n",
    "              [3+2j, 4-1j]])\n",
    "\n",
    "# Print the matrix and its dimensions\n",
    "print(\"Matrix m =\\n\", m)   \n",
    "print(\"Dimensions of m =\", m.shape) \n"
   ]
  },
  {
   "cell_type": "markdown",
   "id": "44b6c9e0-20a8-41e4-a2b5-ad2f77ecb579",
   "metadata": {},
   "source": [
    "### Exercise 14: Multiplying a Complex Square Matrix by a Complex Column Vector\n",
    "Multiply the complex square matrix \n",
    "$$ m = \\begin{bmatrix} 1 + i & 2 - i \\\\ 3 & 4 + i \\end{bmatrix} $$\n",
    "by the complex column vector \n",
    "$$ v = \\begin{bmatrix} 2 - i \\\\ 1 + 3i \\end{bmatrix} $$\n",
    "\n",
    "### Solution:\n",
    "As shown in the code output, the result of the multiplication is:\n",
    "$$ mult = \\begin{bmatrix} 8 + 6i \\\\ 7 + 10i \\end{bmatrix} $$\n"
   ]
  },
  {
   "cell_type": "code",
   "execution_count": 40,
   "id": "3b64e74d-d1ce-4784-9956-c1210aa5ce4a",
   "metadata": {},
   "outputs": [
    {
     "name": "stdout",
     "output_type": "stream",
     "text": [
      "m = [[1.+1.j 2.-1.j]\n",
      " [3.+0.j 4.+1.j]] \n",
      "v = [[2.-1.j]\n",
      " [1.+3.j]] \n",
      "multiplication = [[8. +6.j]\n",
      " [7.+10.j]]\n"
     ]
    }
   ],
   "source": [
    "import numpy as np\n",
    "\n",
    "# Define the complex square matrix\n",
    "m = np.array([[1+1j, 2-1j], \n",
    "              [3+0j, 4+1j]])\n",
    "\n",
    "# Define the complex column vector\n",
    "v = np.array([[2-1j], \n",
    "              [1+3j]])\n",
    "\n",
    "# Multiply the matrix by the vector\n",
    "result = np.dot(m, v)\n",
    "\n",
    "# Print the matrix, vector, and the result\n",
    "print(\"m =\", m, \"\\nv =\", v, \"\\nmultiplication =\", result)\n"
   ]
  }
 ],
 "metadata": {
  "kernelspec": {
   "display_name": ".venv (3.13.7)",
   "language": "python",
   "name": "python3"
  },
  "language_info": {
   "codemirror_mode": {
    "name": "ipython",
    "version": 3
   },
   "file_extension": ".py",
   "mimetype": "text/x-python",
   "name": "python",
   "nbconvert_exporter": "python",
   "pygments_lexer": "ipython3",
   "version": "3.13.7"
  }
 },
 "nbformat": 4,
 "nbformat_minor": 5
}
