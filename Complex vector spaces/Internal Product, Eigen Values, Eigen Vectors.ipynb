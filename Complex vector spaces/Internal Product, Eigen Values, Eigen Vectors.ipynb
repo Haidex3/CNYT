{
 "cells": [
  {
   "cell_type": "markdown",
   "id": "0d37e924-d67f-46af-b837-d9c211cb7af0",
   "metadata": {},
   "source": [
    "# Internal Product, Eigen Values, Eigen Vectors"
   ]
  },
  {
   "cell_type": "markdown",
   "id": "55693f1e-211f-44e5-b0c3-0c8c77b4e2c3",
   "metadata": {},
   "source": [
    "# Complex Internal Products: A Quantum Computing Perspective\n",
    "\n",
    "Welcome to this focused tutorial on the concept of complex internal products, a cornerstone in the mathematical framework underpinning quantum computing. In this session, we will dive deep into the complex internal product for both column vectors and square complex matrices, offering a blend of theoretical insights and practical Python implementations.\n",
    "\n",
    "## What You Will Learn\n",
    "- The definition and significance of the complex internal product in quantum computing.\n",
    "- How to compute the complex internal product for column vectors.\n",
    "- How to compute the complex internal product for square complex matrices.\n",
    "\n",
    "Let's embark on this journey to unravel the mysteries of complex internal products and their pivotal role in quantum computing.\n"
   ]
  },
  {
   "cell_type": "markdown",
   "id": "37a56e6d-6a4e-4b81-93b8-029ec1e1d9bf",
   "metadata": {},
   "source": [
    "## Complex Internal Product for Column Vectors\n",
    "\n",
    "# Properties of the Internal Product in Vector Spaces\n",
    "\n",
    "The internal product (or inner product) is a key concept in the study of vector spaces, providing a way to define geometric concepts such as length, angle, and orthogonality within these spaces. The internal product for a vector space is defined as a function:\n",
    "\n",
    "$$ \\langle {-},{-} \\rangle : \\mathbb{V} \\times \\mathbb{V} \\rightarrow \\mathbb{C}  $$\n",
    "\n",
    "that satisfies the following properties for any vectors $x$, $y$, $z$ in the vector space $V$ and any scalar $c$:\n",
    "\n",
    "1. Nondegenerate\n",
    "   $$ \\langle {V},{V} \\rangle \\geq 0  $$\n",
    "   $$ \\langle {V},{V} \\rangle = 0 \\text{ si solo si }V = \\boldsymbol{0} $$\n",
    "3. Respects addition:\n",
    "   $$ \\langle {V_1 + V_2},{V_3} \\rangle = \\langle {V_1},{V_3} \\rangle + \\langle {V_2},{V_3} \\rangle  $$\n",
    "   $$ \\langle {V_1},{V_2 + V_3} \\rangle = \\langle {V_1},{V_2} \\rangle + \\langle {V_1},{V_3} \\rangle $$\n",
    "5. Respects scalar multiplication\n",
    "   $$ \\langle {c \\cdot V_1},{V_2} \\rangle = c \\times \\langle {V_1},{V_2} \\rangle $$\n",
    "   $$ \\langle {V_1},{c \\cdot V_2} \\rangle = \\overline{c} \\times \\langle {V_1},{V_2} \\rangle$$\n",
    "7. Skew symmetric:\n",
    "   $$ \\langle {V_1},{V_2} \\rangle = \\overline{\\langle {V_2},{V_1} \\rangle} $$\n",
    "\n",
    "The definition of the internal product varies across different vector spaces.\n"
   ]
  },
  {
   "cell_type": "markdown",
   "id": "97167303-d078-45da-9d00-d9c2dbc4a12f",
   "metadata": {},
   "source": [
    "# Exercises on Complex Vector and Matrix Operations\n",
    "\n",
    "This set of exercises is designed to test your understanding of various concepts related to complex vector and matrix operations, which are foundational in quantum computing. Each exercise presents a concrete case for you to apply what you've learned about complex internal products, Hermitian matrices, Unitary matrices, and tensor products.\n",
    "\n",
    "**NOTE:** VERIFY YOUR COMPUTATIONS BOTH ON PAPER AND USING A COMPUTER.\n",
    "\n",
    "## Exercise 1: Complex Internal Product for Column Vectors\n",
    "\n",
    "Given two complex column vectors:\n",
    "\n",
    "$$ \\mathbf{a} = \\begin{bmatrix} 1 + 2i \\\\ 3 - 4i \\end{bmatrix}, \\quad \\mathbf{b} = \\begin{bmatrix} 2 - i \\\\ -1 + 3i \\end{bmatrix} $$\n",
    "\n",
    "- Calculate the complex internal product $ \\langle \\mathbf{a}, \\mathbf{b} \\rangle $.\n",
    "\n",
    "---\n",
    "\n",
    "## Solution\n",
    "\n",
    "As shown in the code solution, the result is:\n",
    "\n",
    "$$ \n",
    "\\mathbf{C} = \\begin{bmatrix} -15 + 0i \\end{bmatrix} \n",
    "$$\n"
   ]
  },
  {
   "cell_type": "code",
   "execution_count": 5,
   "id": "47c8dde7-a2c1-4e84-b754-d9873c1543cb",
   "metadata": {},
   "outputs": [
    {
     "data": {
      "text/plain": [
       "np.complex128(-15+0j)"
      ]
     },
     "execution_count": 5,
     "metadata": {},
     "output_type": "execute_result"
    }
   ],
   "source": [
    "import numpy as np\n",
    "\n",
    "# Define two complex column vectors\n",
    "vector_a = np.array([1+2j, 3-4j])\n",
    "vector_b = np.array([2-1j, -1+3j])\n",
    "\n",
    "# Compute the complex internal product\n",
    "complex_internal_product_vector = np.vdot(vector_a, vector_b)\n",
    "\n",
    "complex_internal_product_vector"
   ]
  },
  {
   "cell_type": "markdown",
   "id": "5e906dc1-8fe8-4d48-9ac1-34b358d90adf",
   "metadata": {},
   "source": [
    "## Exercise 2: Complex Internal Product for Square Complex Matrices\n",
    "\n",
    "Given two square complex matrices:\n",
    "\n",
    "$$ A = \\begin{bmatrix} 1+i & 2-2i \\\\ 3+3i & 4-i \\end{bmatrix}, \\quad B = \\begin{bmatrix} 1-2i & 3+i \\\\ 4-4i & 2+2i \\end{bmatrix} $$\n",
    "\n",
    "- Calculate the complex internal product $ \\langle A, B \\rangle $.\n",
    "\n",
    "---\n",
    "\n",
    "## Solution\n",
    "\n",
    "As shown in the code result, the answer is:\n",
    "\n",
    "$$ \n",
    "\\mathbf{Cm} = \\begin{bmatrix} 9 - 9i \\end{bmatrix} \n",
    "$$\n"
   ]
  },
  {
   "cell_type": "code",
   "execution_count": 6,
   "id": "14417c66-7e3c-4e67-a84b-864dbaa3c11d",
   "metadata": {},
   "outputs": [
    {
     "data": {
      "text/plain": [
       "np.complex128(9-9j)"
      ]
     },
     "execution_count": 6,
     "metadata": {},
     "output_type": "execute_result"
    }
   ],
   "source": [
    "import numpy as np\n",
    "\n",
    "# Define two complex column vectors\n",
    "matriz_a = np.array([[1+1j, 2-2j], \n",
    "               [3+3j, 4-1j]])\n",
    "matriz_b = np.array([[1-2j, 3+1j], \n",
    "               [4-4j, 2+2j]])\n",
    "\n",
    "# Compute the complex internal product\n",
    "complex_internal_product_vector = np.vdot(matriz_a, matriz_b)\n",
    "\n",
    "complex_internal_product_vector"
   ]
  },
  {
   "cell_type": "markdown",
   "id": "3dd9263b-ce23-4407-b522-8ffd8143f454",
   "metadata": {},
   "source": [
    "## Exercise 3: Symmetric Matrix Eigendecomposition\n",
    "\n",
    "Compute the eigenvalues and eigenvectors of the following symmetric matrix:\n",
    "\n",
    "$$\n",
    "C = \\begin{pmatrix}\n",
    "5 & 4 \\\\\n",
    "4 & 5\n",
    "\\end{pmatrix}\n",
    "$$\n",
    "\n",
    "- Discuss the properties of the eigenvectors and eigenvalues for symmetric matrices based on your results.\n",
    "\n",
    "---\n",
    "\n",
    "## Solution\n",
    "\n",
    "As shown in the code result, the answer is:\n",
    "\n",
    "$$ \n",
    "\\text{Eigenvalues} = \\begin{bmatrix} 9 & 1 \\end{bmatrix} \n",
    "$$\n",
    "\n",
    "$$ \n",
    "\\text{Eigenvectors} = \\begin{bmatrix} 0.707 & -0.707 \\\\ 0.707 & 0.707 \\end{bmatrix} \n",
    "$$\n"
   ]
  },
  {
   "cell_type": "code",
   "execution_count": 7,
   "id": "189b3997-2825-4a29-af31-e35c856608a5",
   "metadata": {},
   "outputs": [
    {
     "name": "stdout",
     "output_type": "stream",
     "text": [
      "Eigenvalues: [9. 1.]\n",
      "Eigenvectors:\n",
      " [[ 0.70710678 -0.70710678]\n",
      " [ 0.70710678  0.70710678]]\n"
     ]
    }
   ],
   "source": [
    "import numpy as np\n",
    "\n",
    "# Define a square matrix\n",
    "A = np.array([[5, 4], [4, 5]])\n",
    "\n",
    "# Compute eigenvalues and eigenvectors\n",
    "eigenvalues, eigenvectors = np.linalg.eig(A)\n",
    "\n",
    "print(\"Eigenvalues:\", eigenvalues)\n",
    "print(\"Eigenvectors:\\n\", eigenvectors)"
   ]
  },
  {
   "cell_type": "markdown",
   "id": "58bc0c2d-23a4-4cda-a6c2-cfc7d1ed91e3",
   "metadata": {},
   "source": [
    "## Exercise 4: Plotting Matrix Transformations\n",
    "\n",
    "Consider the matrix:\n",
    "\n",
    "$$\n",
    "T = \\begin{pmatrix}\n",
    "2 & 1 \\\\\n",
    "1 & 3\n",
    "\\end{pmatrix}\n",
    "$$\n",
    "\n",
    "1. Plot the unit circle.  \n",
    "2. Apply the matrix \\(T\\) to transform the unit circle.  \n",
    "3. Plot the transformed figure.  \n",
    "4. Show graphically that the eigenvectors are only multiplied by a scalar when transformed. (Plot the eigenvectors and the transformed ones)  \n",
    "\n",
    "- Explain how the matrix \\(T\\) transforms the unit circle based on the resulting plot.\n",
    "\n",
    "**Hint:** Use `numpy` for matrix operations and `matplotlib` for plotting.\n",
    "\n",
    "---\n",
    "\n",
    "## Solution\n",
    "\n",
    "1. The following code shows the plot of a unit circle.\n"
   ]
  },
  {
   "cell_type": "code",
   "execution_count": 8,
   "id": "8449692a-6b33-4c07-8a74-79ef6e51d286",
   "metadata": {},
   "outputs": [
    {
     "ename": "ModuleNotFoundError",
     "evalue": "No module named 'matplotlib'",
     "output_type": "error",
     "traceback": [
      "\u001b[31m---------------------------------------------------------------------------\u001b[39m",
      "\u001b[31mModuleNotFoundError\u001b[39m                       Traceback (most recent call last)",
      "\u001b[36mCell\u001b[39m\u001b[36m \u001b[39m\u001b[32mIn[8]\u001b[39m\u001b[32m, line 2\u001b[39m\n\u001b[32m      1\u001b[39m \u001b[38;5;28;01mimport\u001b[39;00m\u001b[38;5;250m \u001b[39m\u001b[34;01mnumpy\u001b[39;00m\u001b[38;5;250m \u001b[39m\u001b[38;5;28;01mas\u001b[39;00m\u001b[38;5;250m \u001b[39m\u001b[34;01mnp\u001b[39;00m\n\u001b[32m----> \u001b[39m\u001b[32m2\u001b[39m \u001b[38;5;28;01mimport\u001b[39;00m\u001b[38;5;250m \u001b[39m\u001b[34;01mmatplotlib\u001b[39;00m\u001b[34;01m.\u001b[39;00m\u001b[34;01mpyplot\u001b[39;00m\u001b[38;5;250m \u001b[39m\u001b[38;5;28;01mas\u001b[39;00m\u001b[38;5;250m \u001b[39m\u001b[34;01mplt\u001b[39;00m\n\u001b[32m      4\u001b[39m \u001b[38;5;66;03m# Generate points on the unit circle\u001b[39;00m\n\u001b[32m      5\u001b[39m theta = np.linspace(\u001b[32m0\u001b[39m, \u001b[32m2\u001b[39m * np.pi, \u001b[32m100\u001b[39m)\n",
      "\u001b[31mModuleNotFoundError\u001b[39m: No module named 'matplotlib'"
     ]
    }
   ],
   "source": [
    "import numpy as np\n",
    "import matplotlib.pyplot as plt\n",
    "\n",
    "# Generate points on the unit circle\n",
    "theta = np.linspace(0, 2 * np.pi, 100)\n",
    "vectors = np.array([np.cos(theta), np.sin(theta)])\n",
    "\n",
    "# Plot the unit circle\n",
    "plt.figure(figsize=(6, 6))\n",
    "plt.plot(vectors[0], vectors[1], 'b', label='Original Vectors')  # Original vectors\n",
    "plt.xlabel('X')\n",
    "plt.ylabel('Y')\n",
    "plt.grid(True)\n",
    "plt.legend()\n",
    "plt.title('Unit Circle')\n",
    "plt.axis('equal')\n",
    "plt.show()\n"
   ]
  },
  {
   "cell_type": "markdown",
   "id": "e95a5e50-5855-47bc-a1dc-0532670f31ba",
   "metadata": {},
   "source": [
    "2. As shown in the code result, the transformed matrix applied to the unit circle is:\n"
   ]
  },
  {
   "cell_type": "code",
   "execution_count": null,
   "id": "07a7a99e-0adf-48ec-8dd5-499a34038ec4",
   "metadata": {},
   "outputs": [
    {
     "name": "stdout",
     "output_type": "stream",
     "text": [
      "[[ 2.          2.05939727  2.11050208  2.15310864  2.18704539  2.21217568\n",
      "   2.22839832  2.23564799  2.23389549  2.22314788  2.20344844  2.1748765\n",
      "   2.13754709  2.09161053  2.0372518   1.97468977  1.90417637  1.82599551\n",
      "   1.74046202  1.6479203   1.54874299  1.44332944  1.33210411  1.21551486\n",
      "   1.09403117  0.9681422   0.83835486  0.70519177  0.56918911  0.43089453\n",
      "   0.29086489  0.14966404  0.00786055 -0.1339746  -0.27527027 -0.41545753\n",
      "  -0.55397189 -0.6902556  -0.8237599  -0.9539472  -1.0802933  -1.20228943\n",
      "  -1.31944438 -1.43128638 -1.5373651  -1.63725339 -1.73054904 -1.81687638\n",
      "  -1.8958878  -1.96726515 -2.03072102 -2.08599989 -2.13287917 -2.17117011\n",
      "  -2.2007185  -2.22140538 -2.23314745 -2.23589742 -2.22964422 -2.21441303\n",
      "  -2.19026518 -2.1572979  -2.11564395 -2.06547104 -2.00698121 -1.94040998\n",
      "  -1.8660254  -1.784127   -1.69504455 -1.59913675 -1.49678979 -1.38841578\n",
      "  -1.27445112 -1.15535469 -1.03160606 -0.90370351 -0.77216206 -0.6375114\n",
      "  -0.5002937  -0.36106149 -0.22037542 -0.07880197  0.06308879  0.20472551\n",
      "   0.34553787  0.48495887  0.62242711  0.75738906  0.88930128  1.01763259\n",
      "   1.14186625  1.26150202  1.37605816  1.48507341  1.58810879  1.68474942\n",
      "   1.77460615  1.85731717  1.93254943  2.        ]\n",
      " [ 1.          1.18825844  1.37173217  1.54968243  1.72139266  1.88617145\n",
      "   2.0433553   2.19231127  2.33243959  2.46317599  2.58399404  2.69440727\n",
      "   2.79397107  2.88228454  2.95899206  3.02378477  3.07640176  3.11663117\n",
      "   3.144311    3.1593298   3.1616271   3.15119364  3.12807144  3.09235359\n",
      "   3.04418393  2.98375642  2.91131437  2.82714949  2.73160067  2.62505266\n",
      "   2.50793449  2.38071776  2.24391471  2.09807621  1.9437895   1.78167583\n",
      "   1.61238799  1.43660763  1.25504255  1.06842386  0.87750301  0.68304876\n",
      "   0.48584412  0.28668315  0.08636781 -0.1142953  -0.31449819 -0.5134347\n",
      "  -0.71030379 -0.90431274 -1.09468034 -1.28064005 -1.46144308 -1.63636139\n",
      "  -1.80469064 -1.96575305 -2.11890006 -2.26351501 -2.39901559 -2.52485617\n",
      "  -2.64053005 -2.74557145 -2.8395574  -2.92210946 -2.99289521 -3.05162963\n",
      "  -3.09807621 -3.13204794 -3.15340801 -3.16207042 -3.15800029 -3.14121401\n",
      "  -3.11177916 -3.06981428 -3.01548835 -2.9490201  -2.87067719 -2.78077508\n",
      "  -2.67967577 -2.56778635 -2.44555736 -2.31348097 -2.17208902 -2.02195082\n",
      "  -1.86367095 -1.69788673 -1.52526571 -1.346503   -1.16231839 -0.97345353\n",
      "  -0.78066892 -0.58474083 -0.3864582  -0.18661943  0.01397078  0.21450474\n",
      "   0.41417496  0.61217745  0.80771492  1.        ]]\n"
     ]
    }
   ],
   "source": [
    "import numpy as np\n",
    "import matplotlib.pyplot as plt\n",
    "\n",
    "# Generate points on the unit circle\n",
    "theta = np.linspace(0, 2 * np.pi, 100)\n",
    "vectors = np.array([np.cos(theta), np.sin(theta)])\n",
    "\n",
    "# Define the transformation matrix\n",
    "T = np.array([[2, 1], [1, 3]])\n",
    "\n",
    "# Apply the matrix transformation to the unit circle\n",
    "transformed_vectors = T.dot(vectors)\n",
    "\n",
    "# Print the transformed vectors\n",
    "print(transformed_vectors)\n",
    "\n",
    "# Reset the original vectors\n",
    "vectors = np.array([np.cos(theta), np.sin(theta)])\n"
   ]
  },
  {
   "cell_type": "markdown",
   "id": "e3b8d889-5e3f-4605-9962-b4dd660221d7",
   "metadata": {},
   "source": [
    "3. And the plot of the transformed figure is:\n"
   ]
  },
  {
   "cell_type": "code",
   "execution_count": null,
   "id": "eb2b159d-1d28-487c-bda2-8b32fc842eb5",
   "metadata": {},
   "outputs": [
    {
     "data": {
      "image/png": "[encoded data removed]",
      "text/plain": [
       "<Figure size 600x600 with 1 Axes>"
      ]
     },
     "metadata": {},
     "output_type": "display_data"
    }
   ],
   "source": [
    "import matplotlib.pyplot as plt\n",
    "import numpy as np\n",
    "\n",
    "# Plot the transformed unit circle\n",
    "plt.figure(figsize=(6, 6))\n",
    "\n",
    "# Define the transformation matrix\n",
    "T = np.array([[2, 1], [1, 3]])\n",
    "\n",
    "# Original unit circle vectors\n",
    "vectors = np.array([np.cos(theta), np.sin(theta)])\n",
    "\n",
    "# Apply the transformation\n",
    "transformed_vectors = T.dot(vectors)\n",
    "\n",
    "# Plot the transformed vectors\n",
    "plt.plot(transformed_vectors[0], transformed_vectors[1], 'r', label='Transformed Vectors')\n",
    "plt.xlabel('X')\n",
    "plt.ylabel('Y')\n",
    "plt.grid(True)\n",
    "plt.legend()\n",
    "plt.title('Transformed Unit Circle')\n",
    "plt.axis('equal')\n",
    "plt.show()\n"
   ]
  }
 ],
 "metadata": {
  "kernelspec": {
   "display_name": ".venv (3.13.7)",
   "language": "python",
   "name": "python3"
  },
  "language_info": {
   "codemirror_mode": {
    "name": "ipython",
    "version": 3
   },
   "file_extension": ".py",
   "mimetype": "text/x-python",
   "name": "python",
   "nbconvert_exporter": "python",
   "pygments_lexer": "ipython3",
   "version": "3.13.7"
  }
 },
 "nbformat": 4,
 "nbformat_minor": 5
}
