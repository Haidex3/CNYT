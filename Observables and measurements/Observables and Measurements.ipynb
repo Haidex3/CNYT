{
 "cells": [
  {
   "cell_type": "markdown",
   "metadata": {},
   "source": [
    "# Observables and Measurements\n",
    "# SIMULATE THE FIRST QUANTUM SYSTEM DESCRIBED IN SECTION 4.1.\n",
    "1. Calculate the probability of finding it in a particular position.\n"
   ]
  },
  {
   "cell_type": "code",
   "execution_count": 1,
   "metadata": {},
   "outputs": [
    {
     "name": "stdout",
     "output_type": "stream",
     "text": [
      "The probability of finding the particle at position 2 is: 0.05263157894736841\n"
     ]
    }
   ],
   "source": [
    "import numpy as np\n",
    "\n",
    "class QuantumSystem:\n",
    "    def __init__(self, num_positions, ket_state):\n",
    "        self.num_positions = num_positions\n",
    "        self.ket_state = ket_state\n",
    "\n",
    "    def calculate_probability(self, position):\n",
    "        if position < 0 or position >= self.num_positions:\n",
    "            raise ValueError(\"Position out of range\")\n",
    "        amplitude = self.ket_state[position]\n",
    "        norm = np.linalg.norm(self.ket_state)\n",
    "        probability = (abs(amplitude) / norm) ** 2\n",
    "        return probability\n",
    "\n",
    "# Example\n",
    "num_positions = 4\n",
    "ket_state = [-3-1j, -2j, +1j, 2]\n",
    "system = QuantumSystem(num_positions, ket_state)\n",
    "desired_position = 2\n",
    "probability = system.calculate_probability(desired_position)\n",
    "print(f\"The probability of finding the particle at position {desired_position} is: {probability}\")\n"
   ]
  },
  {
   "cell_type": "markdown",
   "metadata": {},
   "source": [
    "2. Find the probability of transitioning from the first vector to the second."
   ]
  },
  {
   "cell_type": "code",
   "execution_count": 2,
   "metadata": {},
   "outputs": [
    {
     "name": "stdout",
     "output_type": "stream",
     "text": [
      "The probability of transitioning from the first ket [-0.-1.j  1.+0.j] to the second [ 1.+0.j -0.-1.j] is: 4.0\n"
     ]
    }
   ],
   "source": [
    "import numpy as np\n",
    "\n",
    "def probability_transition(ket1, ket2):\n",
    "    inner_product = np.dot(ket1, ket2)  # Compute the inner product\n",
    "    probability = np.abs(inner_product) ** 2  # Compute the squared modulus\n",
    "    return probability\n",
    "\n",
    "# Example usage\n",
    "ket1 = np.array([-1j, 1])  # First example ket\n",
    "ket2 = np.array([1, -1j])  # Second example ket\n",
    "\n",
    "probability = probability_transition(ket1, ket2)\n",
    "print(f\"The probability of transitioning from the first ket {ket1} to the second {ket2} is:\", probability)\n"
   ]
  },
  {
   "cell_type": "markdown",
   "metadata": {},
   "source": [
    "Receive two vectors and calculate the probability of transitioning from one to the other after performing a measurement."
   ]
  },
  {
   "cell_type": "code",
   "execution_count": 3,
   "metadata": {},
   "outputs": [
    {
     "name": "stdout",
     "output_type": "stream",
     "text": [
      "The probability of transitioning from the initial state to the final state is: 0.2499999999999999\n"
     ]
    }
   ],
   "source": [
    "import numpy as np\n",
    "\n",
    "def probability_transition(initial_state, final_state):\n",
    "    inner_product = np.vdot(final_state, initial_state)\n",
    "    probability = abs(inner_product) ** 2\n",
    "    return probability\n",
    "\n",
    "# Example usage    \n",
    "initial_state = np.array([1/np.sqrt(2), 0, 1/np.sqrt(2)])\n",
    "final_state = np.array([0, 1/np.sqrt(2), 1/np.sqrt(2)]) \n",
    "\n",
    "probability = probability_transition(initial_state, final_state)\n",
    "print(\"The probability of transitioning from the initial state to the final state is:\", probability)\n"
   ]
  },
  {
   "cell_type": "markdown",
   "metadata": {},
   "source": [
    "Given a matrix representing an observable and a ket vector, the system checks if the matrix is Hermitian, and if so, calculates the mean and variance of the observable in the given state."
   ]
  },
  {
   "cell_type": "code",
   "execution_count": 4,
   "metadata": {},
   "outputs": [
    {
     "name": "stdout",
     "output_type": "stream",
     "text": [
      "Mean of the observable: [[1]]\n",
      "Variance of the observable: [[0]]\n"
     ]
    }
   ],
   "source": [
    "import numpy as np\n",
    "\n",
    "def is_hermitian(matrix):\n",
    "    return np.allclose(matrix, matrix.conj().T)\n",
    "\n",
    "def mean_variance_observable(observable_matrix, ket_vector):\n",
    "    if not is_hermitian(observable_matrix):\n",
    "        print(\"The matrix is not Hermitian.\")\n",
    "        return None, None\n",
    "\n",
    "    mean = np.dot(ket_vector.conj().T, np.dot(observable_matrix, ket_vector)).real\n",
    "    variance = np.dot(ket_vector.conj().T, np.dot(observable_matrix ** 2, ket_vector)).real - mean ** 2\n",
    "\n",
    "    return mean, variance\n",
    "\n",
    "# Example usage\n",
    "observable_matrix = np.array([[1, 0], [0, -1]])  \n",
    "ket_vector = np.array([[1], [0]])                \n",
    "\n",
    "mean, variance = mean_variance_observable(observable_matrix, ket_vector)\n",
    "\n",
    "if mean is not None and variance is not None:\n",
    "    print(\"Mean of the observable:\", mean)\n",
    "    print(\"Variance of the observable:\", variance)\n"
   ]
  },
  {
   "cell_type": "markdown",
   "metadata": {},
   "source": [
    "The system calculates the eigenvalues of the observable and the probability that the system transitions to one of the eigenvectors after the measurement."
   ]
  },
  {
   "cell_type": "code",
   "execution_count": 5,
   "metadata": {},
   "outputs": [
    {
     "name": "stdout",
     "output_type": "stream",
     "text": [
      "Eigenvalues: [ 0.70710678 -0.70710678]\n",
      "Eigenvectors:\n",
      " [[ 0.70710678 -0.70710678]\n",
      " [ 0.70710678  0.70710678]]\n",
      "The probability of transitioning to eigenvector 1 is: 0.5\n",
      "The probability of transitioning to eigenvector 2 is: 0.5\n"
     ]
    },
    {
     "data": {
      "image/png": "[encoded data removed]",
      "text/plain": [
       "<Figure size 640x480 with 1 Axes>"
      ]
     },
     "metadata": {},
     "output_type": "display_data"
    }
   ],
   "source": [
    "import numpy as np\n",
    "import matplotlib.pyplot as plt\n",
    "\n",
    "def normalize(vector):\n",
    "    norm = np.linalg.norm(vector)\n",
    "    return vector / norm\n",
    "\n",
    "def eigen(matrix):\n",
    "    eigenvalues, eigenvectors = np.linalg.eig(matrix)\n",
    "    print(\"Eigenvalues:\", eigenvalues)\n",
    "    print(\"Eigenvectors:\\n\", eigenvectors)\n",
    "    return eigenvectors\n",
    "\n",
    "# Exercise 4.3.1\n",
    "observable = (1/np.sqrt(2)) * np.array([[0, 1], [1, 0]])\n",
    "ket = np.array([1, 0])\n",
    "ket_normal = normalize(ket)\n",
    "eigenvectors = eigen(observable)\n",
    "\n",
    "p1 = np.round(np.linalg.norm(np.vdot(ket_normal, eigenvectors[0]))**2, 2)\n",
    "p2 = np.round(np.linalg.norm(np.vdot(ket_normal, eigenvectors[1]))**2, 2)\n",
    "\n",
    "print(\"The probability of transitioning to eigenvector 1 is:\", p1)\n",
    "print(\"The probability of transitioning to eigenvector 2 is:\", p2)\n",
    "\n",
    "# Exercise 4.3.2\n",
    "prob_final = [p1, p2]\n",
    "indices = [\"vector1\", \"vector2\"]\n",
    "\n",
    "plt.bar(indices, prob_final)\n",
    "plt.xlabel('Index')\n",
    "plt.ylabel('Value')\n",
    "plt.title('Bar Plot of Resulting Vector')\n",
    "plt.show()\n"
   ]
  },
  {
   "cell_type": "code",
   "execution_count": 6,
   "metadata": {},
   "outputs": [
    {
     "name": "stdout",
     "output_type": "stream",
     "text": [
      "Eigenvalues of Sx:\n",
      "[ 0.70710678 -0.70710678]\n",
      "\n",
      "Eigenvectors of Sx:\n",
      "[[ 0.70710678 -0.70710678]\n",
      " [ 0.70710678  0.70710678]]\n",
      "\n",
      "Transition probabilities to each eigenvector:\n",
      "Transition probability to eigenvector 1: 0.4999999999999999\n",
      "Transition probability to eigenvector 2: 0.4999999999999999\n"
     ]
    }
   ],
   "source": [
    "import numpy as np\n",
    "\n",
    "# Define the Sx matrix\n",
    "Sx = (1/np.sqrt(2)) * np.array([[0, 1], [1, 0]])\n",
    "\n",
    "# Find the eigenvalues and eigenvectors of Sx\n",
    "eigenvalues, eigenvectors = np.linalg.eig(Sx)\n",
    "\n",
    "print(\"Eigenvalues of Sx:\")\n",
    "print(eigenvalues)\n",
    "\n",
    "print(\"\\nEigenvectors of Sx:\")\n",
    "print(eigenvectors)\n",
    "\n",
    "# Define the initial state |psi>\n",
    "psi_initial = np.array([1, 0])  # For example, spin-up initial state\n",
    "\n",
    "# Calculate the transition probabilities to each eigenvector\n",
    "transition_probabilities = []\n",
    "for eigenvector in eigenvectors.T:\n",
    "    transition_probability = np.abs(np.vdot(eigenvector, psi_initial))**2\n",
    "    transition_probabilities.append(transition_probability)\n",
    "\n",
    "# Print the transition probabilities\n",
    "print(\"\\nTransition probabilities to each eigenvector:\")\n",
    "for i, probability in enumerate(transition_probabilities):\n",
    "    print(f\"Transition probability to eigenvector {i+1}: {probability}\")\n"
   ]
  },
  {
   "cell_type": "markdown",
   "metadata": {},
   "source": [
    "Given a series of matrices \\(U_n\\), the system calculates the final state from an initial state."
   ]
  },
  {
   "cell_type": "code",
   "execution_count": 7,
   "metadata": {},
   "outputs": [
    {
     "name": "stdout",
     "output_type": "stream",
     "text": [
      "Final state:\n",
      "[0.+0.70710678j 0.-0.70710678j]\n"
     ]
    }
   ],
   "source": [
    "import numpy as np\n",
    "\n",
    "matrices = []\n",
    "\n",
    "def add_matrix(new_matrix, matrices):\n",
    "    matrices.append(new_matrix)\n",
    "    return matrices\n",
    "\n",
    "# Example\n",
    "matrices = add_matrix(np.array([[1, 0], [0, 1]]), matrices)\n",
    "matrices = add_matrix(np.array([[0, -1j], [1j, 0]]), matrices)\n",
    "matrices = add_matrix(np.array([[1/np.sqrt(2), 1/np.sqrt(2)], [1/np.sqrt(2), -1/np.sqrt(2)]]), matrices)\n",
    "\n",
    "def calculate_final_state(matrices):\n",
    "    psi_final = np.array([1, 0])\n",
    "    for matrix in matrices:\n",
    "        psi_final = np.dot(matrix, psi_final)\n",
    "    return psi_final\n",
    "\n",
    "print(\"Final state:\")\n",
    "print(calculate_final_state(matrices))\n"
   ]
  },
  {
   "cell_type": "code",
   "execution_count": 8,
   "metadata": {},
   "outputs": [
    {
     "name": "stdout",
     "output_type": "stream",
     "text": [
      "The matrix U1 is unitary: True\n",
      "The matrix U2 is unitary: True\n"
     ]
    }
   ],
   "source": [
    "# Exercise 4.4.1\n",
    "import numpy as np\n",
    "\n",
    "U1 = np.array([[0, 1], [1, 0]])\n",
    "is_unitary = np.allclose(np.dot(U1, U1.conj().T), np.eye(2))\n",
    "print(\"The matrix U1 is unitary:\", is_unitary)\n",
    "\n",
    "U2 = np.array([[np.sqrt(2)/2, np.sqrt(2)/2], [np.sqrt(2)/2, -np.sqrt(2)/2]])\n",
    "is_unitary = np.allclose(np.dot(U2, U2.conj().T), np.eye(2))\n",
    "print(\"The matrix U2 is unitary:\", is_unitary)"
   ]
  },
  {
   "cell_type": "code",
   "execution_count": 9,
   "metadata": {},
   "outputs": [
    {
     "name": "stdout",
     "output_type": "stream",
     "text": [
      "Result after 3 steps: [[ 0.        +0.j        ]\n",
      " [-0.70710678+0.70710678j]\n",
      " [ 0.        +0.j        ]\n",
      " [ 0.        +0.j        ]]\n",
      "The probability of finding the particle at position 3 is: [0.]\n"
     ]
    }
   ],
   "source": [
    "# Exercise 4.4.2\n",
    "import numpy as np\n",
    "import matplotlib.pyplot as plt\n",
    "\n",
    "# Define two 4x4 complex matrices\n",
    "ma1 = np.array([[0, 1/np.sqrt(2), 1/np.sqrt(2), 0],\n",
    "                [1j/np.sqrt(2), 0, 0, 1/np.sqrt(2)],\n",
    "                [1/np.sqrt(2), 0, 0, 1j/np.sqrt(2)],\n",
    "                [0, 1/np.sqrt(2), -1/np.sqrt(2), 0]])\n",
    "\n",
    "ma2 = np.array([[1], [0], [0], [0]])\n",
    "# print(\"Input: \", ma1, ma2)\n",
    "\n",
    "# Multiplying a 4x4 matrix by a 4x1 vector\n",
    "x2 = np.dot(ma1, ma2)\n",
    "x3 = np.dot(ma1, x2)\n",
    "x4 = np.dot(ma1, x3)\n",
    "print(\"Result after 3 steps:\", x4)\n",
    "\n",
    "print(\"The probability of finding the particle at position 3 is:\", abs(x4[2]))\n"
   ]
  }
 ],
 "metadata": {
  "kernelspec": {
   "display_name": ".venv (3.13.7)",
   "language": "python",
   "name": "python3"
  },
  "language_info": {
   "codemirror_mode": {
    "name": "ipython",
    "version": 3
   },
   "file_extension": ".py",
   "mimetype": "text/x-python",
   "name": "python",
   "nbconvert_exporter": "python",
   "pygments_lexer": "ipython3",
   "version": "3.13.7"
  }
 },
 "nbformat": 4,
 "nbformat_minor": 2
}
